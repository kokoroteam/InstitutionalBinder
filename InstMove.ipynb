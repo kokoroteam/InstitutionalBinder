{
 "cells": [
  {
   "cell_type": "code",
   "execution_count": 1,
   "metadata": {},
   "outputs": [],
   "source": [
    "##### MAIN #####\n",
    "import Institutional.InstitutionalPkg\n",
    "sn = Institutional.InstitutionalPkg.spx_neural() #Instantiates the class\n",
    "df = sn.yahoo_api() #run the yahoo api\n",
    "df = sn.empty_cell_rmvl(df) #removes all empty records\n",
    "df = sn.zero_rmvl(df) #removes all records with a 0 value\n",
    "df = sn.differences(df) #creates new columns that capture the differences between high, low, close and open\n",
    "df = sn.accumulated(df) #creates new column Accumulated based on algorithm in link above\n",
    "df = sn.accum_to_num(df) #turns boolean string value into a binary numeric value\n",
    "df = sn.simMovAve(df) #add a column of the simple moving average of the volume\n",
    "df1 = sn.remove_columns(df) #removes all columns except Close, High_Low, Accum_Num, Volume_SMA\n",
    "df_max_scaled = sn.normalization(df1) #normalizes all of the columns\n",
    "labels = sn.df_plot(df, df_max_scaled) #uses df for the date; uses df_max_scaled for the y values of the independent variables\n",
    "sn.user_notes(labels) #prints user notes"
   ]
  }
 ],
 "metadata": {
  "kernelspec": {
   "display_name": "Python 3",
   "language": "python",
   "name": "python3"
  },
  "language_info": {
   "codemirror_mode": {
    "name": "ipython",
    "version": 3
   },
   "file_extension": ".py",
   "mimetype": "text/x-python",
   "name": "python",
   "nbconvert_exporter": "python",
   "pygments_lexer": "ipython3",
   "version": "3.7.4"
  }
 },
 "nbformat": 4,
 "nbformat_minor": 2
}
